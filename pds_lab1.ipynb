{
 "cells": [
  {
   "cell_type": "code",
   "execution_count": 1,
   "metadata": {},
   "outputs": [],
   "source": [
    "word = 'Python'"
   ]
  },
  {
   "cell_type": "code",
   "execution_count": 2,
   "metadata": {
    "scrolled": true
   },
   "outputs": [],
   "source": [
    "print(word[5])  # character in position 5\n",
    "print(len(word)) # the length of a string"
   ]
  },
  {
   "cell_type": "code",
   "execution_count": 3,
   "metadata": {},
   "outputs": [],
   "source": [
    "print(word[-1])  # last character\n",
    "print(word[-2])  # second-last character"
   ]
  },
  {
   "cell_type": "code",
   "execution_count": 4,
   "metadata": {},
   "outputs": [],
   "source": [
    "print(word[:2])  # characters from the beginning to 2 (excluded)\n",
    "print(word[2:])  # characters from position 2 (included) to the end"
   ]
  },
  {
   "cell_type": "code",
   "execution_count": 5,
   "metadata": {
    "scrolled": true
   },
   "outputs": [],
   "source": [
    "print(word[:-2]) # characters from the beginning to the second-last (excluded)\n",
    "print(word[-2:]) # characters from the second-last (included) to the end"
   ]
  },
  {
   "cell_type": "code",
   "execution_count": 6,
   "metadata": {},
   "outputs": [
    {
     "name": "stdout",
     "output_type": "stream",
     "text": [
      "Pyton\n"
     ]
    }
   ],
   "source": [
    "print(word[:-4] + word[2:-3] + word[-2:None]) # Passing None is equivalant to leaving it empty"
   ]
  },
  {
   "cell_type": "markdown",
   "metadata": {},
   "source": [
    "word[start:stop:step] # characters from **start** to **stop** (excluded), every **step** character\n",
    "(default *step*=1)  \n",
    "A negative *step* used to reverse direction\n"
   ]
  },
  {
   "cell_type": "code",
   "execution_count": 7,
   "metadata": {},
   "outputs": [],
   "source": [
    "word = 'Python'"
   ]
  },
  {
   "cell_type": "code",
   "execution_count": 8,
   "metadata": {},
   "outputs": [
    {
     "name": "stdout",
     "output_type": "stream",
     "text": [
      "Pto\n"
     ]
    }
   ],
   "source": [
    "print(word[::2]) # characters from the beginning to the end, every 2nd character"
   ]
  },
  {
   "cell_type": "code",
   "execution_count": 9,
   "metadata": {},
   "outputs": [
    {
     "name": "stdout",
     "output_type": "stream",
     "text": [
      "yhn\n",
      "Ph\n",
      "no\n"
     ]
    }
   ],
   "source": [
    "print(word[1::2]) # characters from 1 to the end, every 2nd character\n",
    "print(word[:4:3]) # characters from the beginning to 4 (excluded), every 3rd character\n",
    "print(word[5:3:-1]) # characters from 5 (included) to 3 (excluded), every character in reverse"
   ]
  },
  {
   "cell_type": "code",
   "execution_count": 10,
   "metadata": {},
   "outputs": [
    {
     "name": "stdout",
     "output_type": "stream",
     "text": [
      "Hello World!\n"
     ]
    }
   ],
   "source": [
    "s1 = 'Hello' # s1 will store the string \"Hello\"\n",
    "s2 = \"World\" # s2 will store the string \"World\"\n",
    "print(s1 + ' ' + s2 + '!') # concatanating 4 strings"
   ]
  },
  {
   "cell_type": "code",
   "execution_count": 11,
   "metadata": {},
   "outputs": [
    {
     "name": "stdout",
     "output_type": "stream",
     "text": [
      "['Eggs', 'and', 'Spam']\n",
      "['Eggs ', ' Spam']\n",
      "Eggs and Eggs\n",
      "Eggs and \n",
      "Eggs and Spam\n"
     ]
    }
   ],
   "source": [
    "'''\n",
    "String methods, the string type is immutable, therefore the original object can't be modified.\n",
    "Instead when applying a string method a new string object is returned \n",
    "'''\n",
    "words = 'Eggs and Spam'\n",
    "print(words.split()) # returns a list of strings splitted by space (default)\n",
    "print(words.split('and')) # splitting by 'and', whitespaces remain\n",
    "print(words.replace('Spam', 'Eggs')) # returns a new string, Spam replaced by Bacon\n",
    "print(words.strip('Spam')) # returns a new string with Spam stripped\n",
    "print(words.strip('and')) # strips only from the edges"
   ]
  },
  {
   "cell_type": "code",
   "execution_count": 12,
   "metadata": {},
   "outputs": [
    {
     "name": "stdout",
     "output_type": "stream",
     "text": [
      "['spam', 'and', 'spam']\n"
     ]
    }
   ],
   "source": [
    "print(words.replace('Eggs', 'Spam').lower().split()) # method chaining"
   ]
  },
  {
   "cell_type": "code",
   "execution_count": 13,
   "metadata": {},
   "outputs": [
    {
     "name": "stdout",
     "output_type": "stream",
     "text": [
      "eggs and spam\n"
     ]
    }
   ],
   "source": [
    "'''\n",
    "Only the lower() method will return a new string object,\n",
    "all the rest will return the same string as no match was found\n",
    "'''\n",
    "print(words.lower().replace('Eggs', 'Spam').strip('and'))"
   ]
  }
 ],
 "metadata": {
  "kernelspec": {
   "display_name": "Python 3",
   "language": "python",
   "name": "python3"
  },
  "language_info": {
   "codemirror_mode": {
    "name": "ipython",
    "version": 3
   },
   "file_extension": ".py",
   "mimetype": "text/x-python",
   "name": "python",
   "nbconvert_exporter": "python",
   "pygments_lexer": "ipython3",
   "version": "3.7.6"
  }
 },
 "nbformat": 4,
 "nbformat_minor": 5
}
